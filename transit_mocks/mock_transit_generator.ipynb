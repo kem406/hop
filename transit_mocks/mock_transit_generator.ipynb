{
 "cells": [
  {
   "cell_type": "code",
   "execution_count": 9,
   "metadata": {
    "ExecuteTime": {
     "end_time": "2020-11-02T06:49:12.566050Z",
     "start_time": "2020-11-02T06:49:12.512124Z"
    }
   },
   "outputs": [],
   "source": [
    "## Import Packages\n",
    "from __future__ import print_function\n",
    "\n",
    "import numpy as np\n",
    "\n",
    "#Plotting Packages\n",
    "import matplotlib as mpl\n",
    "import matplotlib.cm as cmplt\n",
    "import matplotlib.pyplot as plt\n",
    "from matplotlib import rcParams\n",
    "\n",
    "#I/O\n",
    "import glob\n",
    "import copy\n",
    "import time\n",
    "import os\n",
    "import scipy.io as sio\n",
    "\n",
    "#Plotting Style\n",
    "%matplotlib inline\n",
    "plt.style.use('dark_background')\n",
    "rcParams['text.usetex'] = True\n",
    "rcParams['axes.titlesize'] = 20\n",
    "rcParams['xtick.labelsize'] = 16\n",
    "rcParams['ytick.labelsize'] = 16\n",
    "rcParams['legend.fontsize'] = 12\n",
    "rcParams['axes.labelsize'] = 20\n",
    "rcParams['font.family'] = 'sans-serif'"
   ]
  },
  {
   "cell_type": "code",
   "execution_count": 10,
   "metadata": {
    "ExecuteTime": {
     "end_time": "2020-11-02T06:49:12.849283Z",
     "start_time": "2020-11-02T06:49:12.842118Z"
    }
   },
   "outputs": [],
   "source": [
    "import aotools\n",
    "from aotools.turbulence import infinitephasescreen\n",
    "import imageio\n",
    "from pytransit import QuadraticModel"
   ]
  },
  {
   "cell_type": "code",
   "execution_count": 11,
   "metadata": {
    "ExecuteTime": {
     "end_time": "2020-11-02T06:49:13.284933Z",
     "start_time": "2020-11-02T06:49:13.260226Z"
    }
   },
   "outputs": [],
   "source": [
    "tm = QuadraticModel()\n",
    "times = np.linspace(-0.3,0.3,101)\n",
    "tm.set_data(times)"
   ]
  },
  {
   "cell_type": "code",
   "execution_count": 12,
   "metadata": {
    "ExecuteTime": {
     "end_time": "2020-11-02T06:49:13.640726Z",
     "start_time": "2020-11-02T06:49:13.635892Z"
    }
   },
   "outputs": [],
   "source": [
    "transit_curve = tm.evaluate(k=0.1, ldc=[0.2, 0.1], t0=0.0, p=1.0, a=1.3, i=0.5*np.pi)"
   ]
  },
  {
   "cell_type": "code",
   "execution_count": 13,
   "metadata": {
    "ExecuteTime": {
     "end_time": "2020-11-02T06:49:15.368453Z",
     "start_time": "2020-11-02T06:49:15.354991Z"
    }
   },
   "outputs": [],
   "source": [
    "def star_flux(flux,sigma_x = 1.,sigma_y = 2.,size = 256):\n",
    "    x = np.linspace(-size/2, size/2-1, size)\n",
    "    y = np.linspace(-size/2, size/2-1, size)\n",
    "    x, y = np.meshgrid(x, y)\n",
    "    \n",
    "    z = flux*(1/(2*np.pi*sigma_x*sigma_y) * np.exp(-(x**2/(2*sigma_x**2)\n",
    "         + y**2/(2*sigma_y**2))))\n",
    "    return z\n",
    "\n",
    "def convolver(turb,im2):\n",
    "    if1 = turb\n",
    "    if2 = np.fft.fftshift(np.fft.fft2(im2))\n",
    "    conv = np.multiply(if1,if2)\n",
    "    iif = np.fft.ifft2(conv)\n",
    "    return iif\n",
    "\n",
    "def noise(img,gauss_sig=5):\n",
    "    #convert from 0-1 norm to unit16\n",
    "    in_img = 32767*img\n",
    "    out_img = np.random.poisson(in_img)\n",
    "    out_img += np.random.normal(0, gauss_sig, (img.shape[0],img.shape[0])).astype(np.int64)\n",
    "    return np.abs(out_img)"
   ]
  },
  {
   "cell_type": "code",
   "execution_count": 16,
   "metadata": {
    "ExecuteTime": {
     "end_time": "2020-11-02T08:06:45.383032Z",
     "start_time": "2020-11-02T06:50:40.292515Z"
    }
   },
   "outputs": [],
   "source": [
    "for indx, i in enumerate(transit_curve):\n",
    "    z = star_flux(i)\n",
    "    out_z = 32767*z\n",
    "    imageio.imwrite('data/transit_test_gt_{}.png'.format(indx), out_z.astype(np.uint8))\n",
    "    for j in range(40):\n",
    "        scrn = infinitephasescreen.PhaseScreenKolmogorov(256, 0.4/256, 0.05, 0.5, random_seed=107*indx)\n",
    "        final_img = noise(np.abs(convolver(scrn.scrn,z)))\n",
    "        imageio.imwrite('data/transit_test_{}_slice_{}.png'.format(indx,j), final_img.astype(np.uint8))"
   ]
  },
  {
   "cell_type": "code",
   "execution_count": null,
   "metadata": {},
   "outputs": [],
   "source": []
  }
 ],
 "metadata": {
  "hide_input": false,
  "kernelspec": {
   "display_name": "Python [conda env:RWST] *",
   "language": "python",
   "name": "conda-env-RWST-py"
  },
  "language_info": {
   "codemirror_mode": {
    "name": "ipython",
    "version": 3
   },
   "file_extension": ".py",
   "mimetype": "text/x-python",
   "name": "python",
   "nbconvert_exporter": "python",
   "pygments_lexer": "ipython3",
   "version": "3.6.10"
  },
  "latex_envs": {
   "LaTeX_envs_menu_present": true,
   "autoclose": false,
   "autocomplete": true,
   "bibliofile": "biblio.bib",
   "cite_by": "apalike",
   "current_citInitial": 1,
   "eqLabelWithNumbers": true,
   "eqNumInitial": 1,
   "hotkeys": {
    "equation": "Ctrl-E",
    "itemize": "Ctrl-I"
   },
   "labels_anchors": false,
   "latex_user_defs": false,
   "report_style_numbering": false,
   "user_envs_cfg": false
  },
  "varInspector": {
   "cols": {
    "lenName": 16,
    "lenType": 16,
    "lenVar": 40
   },
   "kernels_config": {
    "python": {
     "delete_cmd_postfix": "",
     "delete_cmd_prefix": "del ",
     "library": "var_list.py",
     "varRefreshCmd": "print(var_dic_list())"
    },
    "r": {
     "delete_cmd_postfix": ") ",
     "delete_cmd_prefix": "rm(",
     "library": "var_list.r",
     "varRefreshCmd": "cat(var_dic_list()) "
    }
   },
   "types_to_exclude": [
    "module",
    "function",
    "builtin_function_or_method",
    "instance",
    "_Feature"
   ],
   "window_display": false
  }
 },
 "nbformat": 4,
 "nbformat_minor": 4
}
