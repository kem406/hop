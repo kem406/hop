{
 "cells": [
  {
   "cell_type": "code",
   "execution_count": 8,
   "metadata": {
    "ExecuteTime": {
     "end_time": "2021-02-23T05:04:00.989545Z",
     "start_time": "2021-02-23T05:04:00.981969Z"
    }
   },
   "outputs": [],
   "source": [
    "## Import Packages\n",
    "from __future__ import print_function\n",
    "\n",
    "import numpy as np\n",
    "\n",
    "#Plotting Packages\n",
    "import matplotlib as mpl\n",
    "import matplotlib.cm as cmplt\n",
    "import matplotlib.pyplot as plt\n",
    "from matplotlib import rcParams\n",
    "\n",
    "#I/O\n",
    "import glob\n",
    "import copy\n",
    "import time\n",
    "import os\n",
    "import scipy.io as sio\n",
    "\n",
    "#Plotting Style\n",
    "%matplotlib inline\n",
    "plt.style.use('dark_background')\n",
    "rcParams['text.usetex'] = False\n",
    "rcParams['axes.titlesize'] = 20\n",
    "rcParams['xtick.labelsize'] = 16\n",
    "rcParams['ytick.labelsize'] = 16\n",
    "rcParams['legend.fontsize'] = 12\n",
    "rcParams['axes.labelsize'] = 20\n",
    "rcParams['font.family'] = 'sans-serif'"
   ]
  },
  {
   "cell_type": "code",
   "execution_count": 4,
   "metadata": {
    "ExecuteTime": {
     "end_time": "2021-02-23T05:03:17.500889Z",
     "start_time": "2021-02-23T05:03:14.557808Z"
    }
   },
   "outputs": [],
   "source": [
    "import aotools\n",
    "from aotools.turbulence import infinitephasescreen\n",
    "import imageio\n",
    "from pytransit import QuadraticModel"
   ]
  },
  {
   "cell_type": "code",
   "execution_count": 5,
   "metadata": {
    "ExecuteTime": {
     "end_time": "2021-02-23T05:03:21.370079Z",
     "start_time": "2021-02-23T05:03:19.748457Z"
    }
   },
   "outputs": [],
   "source": [
    "tm = QuadraticModel()\n",
    "times = np.linspace(-0.3,0.3,101)\n",
    "tm.set_data(times)"
   ]
  },
  {
   "cell_type": "code",
   "execution_count": 6,
   "metadata": {
    "ExecuteTime": {
     "end_time": "2021-02-23T05:03:24.956954Z",
     "start_time": "2021-02-23T05:03:21.802271Z"
    }
   },
   "outputs": [],
   "source": [
    "transit_curve = tm.evaluate(k=0.1, ldc=[0.2, 0.1], t0=0.0, p=1.0, a=1.3, i=0.5*np.pi)"
   ]
  },
  {
   "cell_type": "code",
   "execution_count": 9,
   "metadata": {
    "ExecuteTime": {
     "end_time": "2021-02-23T05:04:03.490941Z",
     "start_time": "2021-02-23T05:04:03.357435Z"
    }
   },
   "outputs": [
    {
     "data": {
      "text/plain": [
       "[<matplotlib.lines.Line2D at 0x7f85f8af4430>]"
      ]
     },
     "execution_count": 9,
     "metadata": {},
     "output_type": "execute_result"
    },
    {
     "data": {
      "image/png": "[encoded data removed]",
      "text/plain": [
       "<Figure size 432x288 with 1 Axes>"
      ]
     },
     "metadata": {},
     "output_type": "display_data"
    }
   ],
   "source": [
    "plt.plot(transit_curve)"
   ]
  },
  {
   "cell_type": "code",
   "execution_count": 10,
   "metadata": {
    "ExecuteTime": {
     "end_time": "2021-02-23T05:04:08.025467Z",
     "start_time": "2021-02-23T05:04:08.018964Z"
    }
   },
   "outputs": [],
   "source": [
    "def star_flux(flux,sigma_x = 1.,sigma_y = 2.,size = 256):\n",
    "    x = np.linspace(-size/2, size/2-1, size)\n",
    "    y = np.linspace(-size/2, size/2-1, size)\n",
    "    x, y = np.meshgrid(x, y)\n",
    "    \n",
    "    z = flux*(1/(2*np.pi*sigma_x*sigma_y) * np.exp(-(x**2/(2*sigma_x**2)\n",
    "         + y**2/(2*sigma_y**2))))\n",
    "    return z\n",
    "\n",
    "def convolver(turb,im2):\n",
    "    if1 = turb\n",
    "    if2 = np.fft.fftshift(np.fft.fft2(im2))\n",
    "    conv = np.multiply(if1,if2)\n",
    "    iif = np.fft.ifft2(conv)\n",
    "    return iif\n",
    "\n",
    "def noise(img,gauss_sig=5):\n",
    "    #convert from 0-1 norm to unit16\n",
    "    in_img = 32767*img\n",
    "    out_img = np.random.poisson(in_img)\n",
    "    out_img += np.random.normal(0, gauss_sig, (img.shape[0],img.shape[0])).astype(np.int64)\n",
    "    return np.abs(out_img)"
   ]
  },
  {
   "cell_type": "code",
   "execution_count": 12,
   "metadata": {
    "ExecuteTime": {
     "end_time": "2021-02-23T05:05:50.873640Z",
     "start_time": "2021-02-23T05:05:50.871320Z"
    }
   },
   "outputs": [],
   "source": [
    "from tqdm import tqdm"
   ]
  },
  {
   "cell_type": "code",
   "execution_count": null,
   "metadata": {
    "ExecuteTime": {
     "start_time": "2021-02-23T05:08:04.188Z"
    }
   },
   "outputs": [
    {
     "name": "stderr",
     "output_type": "stream",
     "text": [
      " 19%|█▉        | 19/101 [07:46<34:03, 24.92s/it]"
     ]
    }
   ],
   "source": [
    "for indx, i in enumerate(tqdm(transit_curve)):\n",
    "    z = star_flux(i)\n",
    "    out_z = 32767*z\n",
    "    imageio.imwrite('data/transit_test_gt_{}.png'.format(indx), out_z.astype(np.uint8))\n",
    "    for j in range(40):\n",
    "        scrn = infinitephasescreen.PhaseScreenKolmogorov(256, 0.4/256, 0.05, 0.5, random_seed=107*indx)\n",
    "        final_img = noise(np.abs(convolver(scrn.scrn,z)))\n",
    "        imageio.imwrite('data/transit_test_{}_slice_{}.png'.format(indx,j), final_img.astype(np.uint8))"
   ]
  }
 ],
 "metadata": {
  "hide_input": false,
  "kernelspec": {
   "display_name": "IWST",
   "language": "python",
   "name": "iwst"
  },
  "language_info": {
   "codemirror_mode": {
    "name": "ipython",
    "version": 3
   },
   "file_extension": ".py",
   "mimetype": "text/x-python",
   "name": "python",
   "nbconvert_exporter": "python",
   "pygments_lexer": "ipython3",
   "version": "3.8.6"
  },
  "latex_envs": {
   "LaTeX_envs_menu_present": true,
   "autoclose": false,
   "autocomplete": true,
   "bibliofile": "biblio.bib",
   "cite_by": "apalike",
   "current_citInitial": 1,
   "eqLabelWithNumbers": true,
   "eqNumInitial": 1,
   "hotkeys": {
    "equation": "Ctrl-E",
    "itemize": "Ctrl-I"
   },
   "labels_anchors": false,
   "latex_user_defs": false,
   "report_style_numbering": false,
   "user_envs_cfg": false
  },
  "varInspector": {
   "cols": {
    "lenName": 16,
    "lenType": 16,
    "lenVar": 40
   },
   "kernels_config": {
    "python": {
     "delete_cmd_postfix": "",
     "delete_cmd_prefix": "del ",
     "library": "var_list.py",
     "varRefreshCmd": "print(var_dic_list())"
    },
    "r": {
     "delete_cmd_postfix": ") ",
     "delete_cmd_prefix": "rm(",
     "library": "var_list.r",
     "varRefreshCmd": "cat(var_dic_list()) "
    }
   },
   "types_to_exclude": [
    "module",
    "function",
    "builtin_function_or_method",
    "instance",
    "_Feature"
   ],
   "window_display": false
  }
 },
 "nbformat": 4,
 "nbformat_minor": 4
}
