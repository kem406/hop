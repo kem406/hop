{
 "cells": [
  {
   "cell_type": "code",
   "execution_count": null,
   "id": "qualified-establishment",
   "metadata": {},
   "outputs": [],
   "source": []
  },
  {
   "cell_type": "code",
   "execution_count": 1,
   "id": "fluid-threat",
   "metadata": {
    "ExecuteTime": {
     "end_time": "2021-02-23T05:12:15.343014Z",
     "start_time": "2021-02-23T05:12:14.810120Z"
    },
    "code_folding": [
     0
    ]
   },
   "outputs": [],
   "source": [
    "## Import Packages\n",
    "from __future__ import print_function\n",
    "\n",
    "import numpy as np\n",
    "\n",
    "#Plotting Packages\n",
    "import matplotlib as mpl\n",
    "import matplotlib.cm as cmplt\n",
    "import matplotlib.pyplot as plt\n",
    "from matplotlib import rcParams\n",
    "\n",
    "#I/O\n",
    "import glob\n",
    "import copy\n",
    "import time\n",
    "import os\n",
    "import scipy.io as sio\n",
    "\n",
    "#Plotting Style\n",
    "%matplotlib inline\n",
    "plt.style.use('dark_background')\n",
    "rcParams['text.usetex'] = False\n",
    "rcParams['axes.titlesize'] = 20\n",
    "rcParams['xtick.labelsize'] = 16\n",
    "rcParams['ytick.labelsize'] = 16\n",
    "rcParams['legend.fontsize'] = 12\n",
    "rcParams['axes.labelsize'] = 20\n",
    "rcParams['font.family'] = 'sans-serif'"
   ]
  },
  {
   "cell_type": "code",
   "execution_count": null,
   "id": "roman-gross",
   "metadata": {},
   "outputs": [],
   "source": []
  }
 ],
 "metadata": {
  "kernelspec": {
   "display_name": "IWST",
   "language": "python",
   "name": "iwst"
  },
  "language_info": {
   "codemirror_mode": {
    "name": "ipython",
    "version": 3
   },
   "file_extension": ".py",
   "mimetype": "text/x-python",
   "name": "python",
   "nbconvert_exporter": "python",
   "pygments_lexer": "ipython3",
   "version": "3.8.6"
  }
 },
 "nbformat": 4,
 "nbformat_minor": 5
}
